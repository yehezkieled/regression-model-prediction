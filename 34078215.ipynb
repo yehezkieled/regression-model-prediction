{
 "cells": [
  {
   "cell_type": "markdown",
   "metadata": {
    "id": "X9V5ptJAIEbw"
   },
   "source": [
    "# FIT5197 2024 S1 Final Assessment\n",
    "\n",
    "**SPECIAL NOTE:** Please refer to the [assessment page](https://learning.monash.edu/mod/assign/view.php?id=2017255) for rules, general guidelines and marking rubrics of the assessment (the marking rubric for the kaggle competition part will be released near the deadline in the same page). Failure to comply with the provided information will result in a deduction of mark (e.g., late penalties) or breach of academic integrity."
   ]
  },
  {
   "cell_type": "markdown",
   "metadata": {
    "id": "FkfAwCwbg7is"
   },
   "source": [
    "**YOUR NAME**: Yehezkiel Efraim Darmadi\n",
    "\n",
    "**STUDENT ID**: 34078215\n",
    "\n",
    "**KAGGLE NAME/ID** (See part 1, Question 5 or part 2, there are penalties if you don't enter it here!!!): Yehezkiel Efraim\n",
    "\n",
    "Please also enter your details in this [google form](https://forms.gle/isxqfrVnV7ddAj8y8)."
   ]
  },
  {
   "cell_type": "markdown",
   "metadata": {
    "id": "f_u6Dyj1xehk"
   },
   "source": [
    "# Part 1 Regression (50 Marks)"
   ]
  },
  {
   "cell_type": "markdown",
   "metadata": {
    "id": "marked-instrument"
   },
   "source": [
    "A few thousand people were questioned in a [life and wellbeing survey](https://www.get-happier.com/) to build a model to predict happiness of an individual. You need to build regression models to optimally predict the variable in the survey dataset called 'happiness' based on any, or all, of the other survey question responses. \n",
    "\n",
    "You have been provided with two datasets, ```regression_train.csv``` and ```regression_test.csv```. Using these datasets, you hope to build a model that can predict happiness level using the other variables. ```regression_train.csv``` comes with the ground-truth target label (i.e. happiness level) whereas `regression_test.csv` comes with independent variables (input information) only.\n",
    "\n",
    "On the order of around 70 survey questions have been converted into predictor variables that can be used to predict happiness. We do not list all the predictor names here, but their names given in the data header can clearly be linked to the survey questions. e.g., the predictor variable 'iDontFeelParticularlyPleasedWithTheWayIAm' corresponds to the survey question 'I don’t feel particularly pleased with the way I am.'"
   ]
  },
  {
   "cell_type": "markdown",
   "metadata": {
    "id": "3-Gbtyt1g7iv"
   },
   "source": [
    "**PLEASE NOTE THAT THE USE OF LIBRARIES ARE PROHIBITED IN THESE QUESTIONS UNLESS STATED OTHERWISE, ANSWERS USING LIBRARIES WILL RECEIVE 0 MARKS**"
   ]
  },
  {
   "cell_type": "markdown",
   "metadata": {
    "id": "wound-marriage"
   },
   "source": [
    "## Question 1 (NO LIBRARIES ALLOWED) (4 Mark)\n",
    "Please load the ```regression_train.csv``` and fit a [$\\textbf{multiple linear regression model}$](https://en.wikipedia.org/wiki/Linear_regression) with 'happiness' being the target variable. According to the summary table, which predictors do you think are possibly associated with the target variable (use the significance level of 0.01), and which are the **Top 5** strongest predictors? Please write an R script to automatically fetch and print this information.\n",
    "\n",
    "**NOTE**: Manually doing the above tasks will result in 0 marks."
   ]
  },
  {
   "cell_type": "code",
   "execution_count": 1,
   "metadata": {
    "vscode": {
     "languageId": "r"
    }
   },
   "outputs": [
    {
     "data": {
      "text/html": [
       "<table class=\"dataframe\">\n",
       "<caption>A data.frame: 5 × 2</caption>\n",
       "<thead>\n",
       "\t<tr><th></th><th scope=col>p_values</th><th scope=col>features</th></tr>\n",
       "\t<tr><th></th><th scope=col>&lt;dbl&gt;</th><th scope=col>&lt;chr&gt;</th></tr>\n",
       "</thead>\n",
       "<tbody>\n",
       "\t<tr><th scope=row>11</th><td>6.160552e-75</td><td>income80k - 120k</td></tr>\n",
       "\t<tr><th scope=row>10</th><td>2.033722e-47</td><td>income50k - 80k </td></tr>\n",
       "\t<tr><th scope=row>8</th><td>1.902543e-39</td><td>income200k above</td></tr>\n",
       "\t<tr><th scope=row>9</th><td>1.604206e-33</td><td>income20k - 50k </td></tr>\n",
       "\t<tr><th scope=row>7</th><td>4.650658e-29</td><td>income15k - 20k </td></tr>\n",
       "</tbody>\n",
       "</table>\n"
      ],
      "text/latex": [
       "A data.frame: 5 × 2\n",
       "\\begin{tabular}{r|ll}\n",
       "  & p\\_values & features\\\\\n",
       "  & <dbl> & <chr>\\\\\n",
       "\\hline\n",
       "\t11 & 6.160552e-75 & income80k - 120k\\\\\n",
       "\t10 & 2.033722e-47 & income50k - 80k \\\\\n",
       "\t8 & 1.902543e-39 & income200k above\\\\\n",
       "\t9 & 1.604206e-33 & income20k - 50k \\\\\n",
       "\t7 & 4.650658e-29 & income15k - 20k \\\\\n",
       "\\end{tabular}\n"
      ],
      "text/markdown": [
       "\n",
       "A data.frame: 5 × 2\n",
       "\n",
       "| <!--/--> | p_values &lt;dbl&gt; | features &lt;chr&gt; |\n",
       "|---|---|---|\n",
       "| 11 | 6.160552e-75 | income80k - 120k |\n",
       "| 10 | 2.033722e-47 | income50k - 80k  |\n",
       "| 8 | 1.902543e-39 | income200k above |\n",
       "| 9 | 1.604206e-33 | income20k - 50k  |\n",
       "| 7 | 4.650658e-29 | income15k - 20k  |\n",
       "\n"
      ],
      "text/plain": [
       "   p_values     features        \n",
       "11 6.160552e-75 income80k - 120k\n",
       "10 2.033722e-47 income50k - 80k \n",
       "8  1.902543e-39 income200k above\n",
       "9  1.604206e-33 income20k - 50k \n",
       "7  4.650658e-29 income15k - 20k "
      ]
     },
     "metadata": {},
     "output_type": "display_data"
    }
   ],
   "source": [
    "# ANSWER BLOCK\n",
    "train_data <- read.csv(\"./regression_train.csv\")\n",
    "test_data <- read.csv(\"./regression_test.csv\")\n",
    "\n",
    "model <- lm(happiness ~ ., data = train_data)\n",
    "\n",
    "# p-values analysis\n",
    "p_values <- summary(model)$coefficients[, \"Pr(>|t|)\"]\n",
    "p_values_df <- data.frame(p_values)\n",
    "p_values_df$features <- rownames(p_values_df)\n",
    "rownames(p_values_df) <- NULL\n",
    "p_values_df <- p_values_df[order(p_values_df$p_values),]\n",
    "sig_level <- 0.01\n",
    "p_val_significant_df <- p_values_df[!is.na(p_values_df$p_values) & p_values_df$p_values <= sig_level, ]\n",
    "p_val_significant_df[1:5,]"
   ]
  },
  {
   "cell_type": "markdown",
   "metadata": {
    "id": "royal-finland"
   },
   "source": [
    "## Question 2 (2 Mark)\n",
    "[**R squared**](https://en.wikipedia.org/wiki/Coefficient_of_determination) from the summary table reflects that the full model doesn't fit the training dataset well; thus, you try to quantify the error between the values of the ground-truth and those of the model prediction. You want to write a function to predict 'happiness' with the given dataset and calculate the [root mean squared error (rMSE)](https://en.wikipedia.org/wiki/Root-mean-square_deviation) between the model predictions and the ground truths. Please test this function on the full model and the training dataset."
   ]
  },
  {
   "cell_type": "code",
   "execution_count": 2,
   "metadata": {
    "vscode": {
     "languageId": "r"
    }
   },
   "outputs": [
    {
     "name": "stdout",
     "output_type": "stream",
     "text": [
      "[1] \"This is training data RMSE: 6.67255660795814\"\n"
     ]
    }
   ],
   "source": [
    "# ANSWER BLOCK\n",
    "rmse_func <- function(model, df) {\n",
    "    predictions <- predict(model, df)\n",
    "    rmse <- sqrt(mean((predictions - df$happiness)^2))\n",
    "    return(rmse)\n",
    "}\n",
    "\n",
    "# calculate the RMSE\n",
    "full_model_train_rmse <- rmse_func(model, train_data)\n",
    "print(\n",
    "    paste0(\"This is training data RMSE: \", full_model_train_rmse)\n",
    ")"
   ]
  },
  {
   "cell_type": "markdown",
   "metadata": {
    "id": "eight-newman"
   },
   "source": [
    "## Question 3 (2 Marks)\n",
    "You find the full model complicated and try to reduce the complexity by performing [bidirectional stepwise regression](https://en.wikipedia.org/wiki/Stepwise_regression) with [BIC](https://en.wikipedia.org/wiki/Bayesian_information_criterion).\n",
    "\n",
    "Calculate the **rMSE** of this new model with the function that you implemented previously. Is there anything you find unusual? Explain your findings in 100 words."
   ]
  },
  {
   "cell_type": "code",
   "execution_count": 3,
   "metadata": {
    "vscode": {
     "languageId": "r"
    }
   },
   "outputs": [
    {
     "data": {
      "text/plain": [
       "\n",
       "Call:\n",
       "lm(formula = happiness ~ income + alwaysStressed + alwaysHaveFun + \n",
       "    alwaysSerious + alwaysDepressed + iFindMostThingsAmusing + \n",
       "    iUsuallyHaveAGoodInfluenceOnEvents, data = train_data)\n",
       "\n",
       "Residuals:\n",
       "    Min      1Q  Median      3Q     Max \n",
       "-33.365  -4.587  -0.030   5.203  18.888 \n",
       "\n",
       "Coefficients:\n",
       "                                   Estimate Std. Error t value Pr(>|t|)    \n",
       "(Intercept)                        -13.7027     0.6348 -21.587  < 2e-16 ***\n",
       "income10k - 15k                      6.9401     1.2123   5.725 1.82e-08 ***\n",
       "income120k - 150k                   12.4102     1.1859  10.465  < 2e-16 ***\n",
       "income150k - 200k                   12.1301     1.1885  10.206  < 2e-16 ***\n",
       "income15k - 20k                     14.0070     1.1820  11.851  < 2e-16 ***\n",
       "income200k above                    20.6292     1.3292  15.519  < 2e-16 ***\n",
       "income20k - 50k                     22.1535     1.4718  15.052  < 2e-16 ***\n",
       "income50k - 80k                     29.0212     1.6938  17.133  < 2e-16 ***\n",
       "income80k - 120k                    37.5672     1.5353  24.469  < 2e-16 ***\n",
       "alwaysStressed                      -1.7214     0.3071  -5.606 3.49e-08 ***\n",
       "alwaysHaveFun                        0.9188     0.2946   3.119 0.001923 ** \n",
       "alwaysSerious                       -0.7589     0.2981  -2.546 0.011203 *  \n",
       "alwaysDepressed                     -0.9029     0.3651  -2.473 0.013749 *  \n",
       "iFindMostThingsAmusing               0.9958     0.2996   3.324 0.000954 ***\n",
       "iUsuallyHaveAGoodInfluenceOnEvents   1.0721     0.3110   3.448 0.000614 ***\n",
       "---\n",
       "Signif. codes:  0 '***' 0.001 '**' 0.01 '*' 0.05 '.' 0.1 ' ' 1\n",
       "\n",
       "Residual standard error: 7.443 on 485 degrees of freedom\n",
       "Multiple R-squared:  0.7206,\tAdjusted R-squared:  0.7126 \n",
       "F-statistic: 89.36 on 14 and 485 DF,  p-value: < 2.2e-16\n"
      ]
     },
     "metadata": {},
     "output_type": "display_data"
    },
    {
     "name": "stdout",
     "output_type": "stream",
     "text": [
      "[1] \"The stepwise model with BIC RMSE on training data: 7.33030486894785\"\n"
     ]
    }
   ],
   "source": [
    "# ANSWER BLOCK\n",
    "stepwise_model <- step(model, trace = 0, k = log(nrow(train_data)), direction = \"both\")\n",
    "summary(stepwise_model)\n",
    "\n",
    "# calculate the RMSE\n",
    "step_model_train_rmse <- rmse_func(stepwise_model, train_data)\n",
    "print(\n",
    "    paste0(\"The stepwise model with BIC RMSE on training data: \", step_model_train_rmse)\n",
    ")"
   ]
  },
  {
   "cell_type": "markdown",
   "metadata": {},
   "source": [
    "The RMSE of the full model (6.67) is lower than that of the stepwise model (7.33), suggesting the full model fits the training data better. This difference indicates that while the stepwise model simplifies the model by reducing the number of predictors, it sacrifices some accuracy. The stepwise model’s higher RMSE might also reflect overfitting in the full model or the loss of important predictors during stepwise selection. It’s crucial to balance model complexity and accuracy, as simpler models are often more generalizable to new data despite having slightly higher RMSE on training data."
   ]
  },
  {
   "cell_type": "markdown",
   "metadata": {
    "id": "latter-translation"
   },
   "source": [
    "## Question 4 (2 Mark)\n",
    "Although stepwise regression has reduced the model complexity significantly, the model still contains a lot of variables that we want to remove. Therefore, you are interested in lightweight linear regression models with ONLY TWO predictors. Write a script to automatically find the best lightweight model which corresponds to the model with the least **rMSE** on the training dataset. Compare the **rMSE** of the best lightweight model with the **rMSE** of the full model - ```lm.fit``` - that you built previously. Give an explanation for these results based on consideration of the predictors involved."
   ]
  },
  {
   "cell_type": "code",
   "execution_count": 4,
   "metadata": {
    "vscode": {
     "languageId": "r"
    }
   },
   "outputs": [
    {
     "name": "stdout",
     "output_type": "stream",
     "text": [
      "[1] \"The top predictors are: income, and alwaysStressed\"\n",
      "[1] \"The lightweight model trin RMSE: 7.88541130213321\"\n",
      "[1] \"The full model train RMSE: 6.67255660795814\"\n"
     ]
    }
   ],
   "source": [
    "# ANSWER BLOCK\n",
    "# get the selected features from the stepwise model\n",
    "selected_features <- colnames(train_data)[colnames(train_data) != \"happiness\"]\n",
    "\n",
    "# create combination of features\n",
    "predictor_pairs <- combn(selected_features, 2, simplify = FALSE)\n",
    "\n",
    "best_model <- NULL\n",
    "best_rmse <- Inf\n",
    "best_pair <- NULL\n",
    "\n",
    "for (pair in predictor_pairs) {\n",
    "    # create formula\n",
    "    formula <- as.formula(paste(\"happiness ~\", paste(paste0(\"`\", pair, \"`\"), collapse = \" + \")))\n",
    "    \n",
    "    # Fit the model\n",
    "    model <- lm(formula, data = train_data)\n",
    "\n",
    "    # Calculate RMSE for the current model\n",
    "    rmse <- rmse_func(model, train_data)\n",
    "\n",
    "    # Update the best model if the current model has a lower RMSE and also keep the best pair\n",
    "    if (rmse < best_rmse) {\n",
    "        best_model <- model\n",
    "        best_rmse <- rmse\n",
    "        best_pair <- pair\n",
    "    }\n",
    "}\n",
    "\n",
    "print(\n",
    "    paste0(\"The top predictors are: \", paste(best_pair, collapse = \", and \"))\n",
    ")\n",
    "\n",
    "# calculate the lightweight_model's RMSE\n",
    "lightweight_model_train_rmse <- rmse_func(best_model, train_data)\n",
    "\n",
    "print(\n",
    "    paste0(\"The lightweight model trin RMSE: \", lightweight_model_train_rmse)\n",
    ")\n",
    "\n",
    "print(\n",
    "    paste0(\"The full model train RMSE: \", full_model_train_rmse)\n",
    ")"
   ]
  },
  {
   "cell_type": "markdown",
   "metadata": {
    "id": "J4P9QL6tg7ix"
   },
   "source": [
    "### ANSWER (TEXT)"
   ]
  },
  {
   "cell_type": "markdown",
   "metadata": {},
   "source": [
    "The RMSE for the best lightweight model (7.89) is higher than the RMSE for the full model (6.67). This means the full model, which includes more predictors, fits the training data better than the simpler lightweight model. The top predictors in the lightweight model are “income” and “alwaysStressed,” which significantly impact happiness. However, the full model’s additional predictors capture more complex relationships in the data, resulting in a more accurate fit. Thus, while the lightweight model is simpler, the full model provides a better understanding of the factors influencing happiness by considering more variables."
   ]
  },
  {
   "cell_type": "markdown",
   "metadata": {
    "id": "preceding-chicago"
   },
   "source": [
    "## Question 5 (Libraries are allowed) (40 Marks)\n",
    "As a Data Scientist, one of the key tasks is to build models $\\textbf{most appropriate/closest}$ to the truth; thus, modelling will not be limited to the aforementioned steps in this assignment. To simulate for a realistic modelling process, this question will be in the form of a [Kaggle competition](https://www.kaggle.com/t/ad8c96e412254c138cbec1d9d1c09734) among students to find out who has the best model.\n",
    "\n",
    "Thus, you **will be graded** by the **rMSE** performance of your model, the better your model, the higher your score. Additionally, you need to describe/document your thought process in this model building process, this is akin to showing your working properly for the mathematic sections. If you don't clearly document the reasonings behind the model you use, we will have to make some deductions on your scores.\n",
    "\n",
    "This is the [video tutorial](https://www.youtube.com/watch?v=rkXc25Uvyl4) on how to join any Kaggle competition. \n",
    "\n",
    "When you optimize your model's performance, you can use any supervised model that you know and feature selection might be a big help as well. [Check the non-exhaustive set of R functions relevant to this unit](https://learning.monash.edu/mod/resource/view.php?id=2017193) for ideas for different models to try.\n",
    "\n",
    "$\\textbf{Note}$ Please make sure that we can install the libraries that you use in this part, the code structure can be:\n",
    "\n",
    "```install.packages(\"some package\", repos='http://cran.us.r-project.org')```\n",
    "\n",
    "```library(\"some package\")```\n",
    "\n",
    "Remember that if we cannot run your code, we will have to give you a deduction. Our suggestion is for you to use the standard ```R version 3.6.1```\n",
    "\n",
    "You also need to name your final model ``fin.mod`` so we can run a check to find out your performance. A good test for your understanding would be to set the previous $\\textbf{BIC model}$ to be the final model to check if your code works perfectly."
   ]
  },
  {
   "cell_type": "markdown",
   "metadata": {},
   "source": [
    "**I used the kaggle notebook R version which is, 4.0.5**"
   ]
  },
  {
   "cell_type": "code",
   "execution_count": 5,
   "metadata": {},
   "outputs": [
    {
     "name": "stderr",
     "output_type": "stream",
     "text": [
      "Loading required package: caret\n",
      "\n",
      "Loading required package: ggplot2\n",
      "\n",
      "Loading required package: lattice\n",
      "\n",
      "Loading required package: tidyverse\n",
      "\n",
      "-- \u001b[1mAttaching packages\u001b[22m --------------------------------------- tidyverse 1.3.2 --\n",
      "\u001b[32mv\u001b[39m \u001b[34mtibble \u001b[39m 3.1.8      \u001b[32mv\u001b[39m \u001b[34mdplyr  \u001b[39m 1.0.10\n",
      "\u001b[32mv\u001b[39m \u001b[34mtidyr  \u001b[39m 1.2.1      \u001b[32mv\u001b[39m \u001b[34mstringr\u001b[39m 1.4.1 \n",
      "\u001b[32mv\u001b[39m \u001b[34mreadr  \u001b[39m 2.1.2      \u001b[32mv\u001b[39m \u001b[34mforcats\u001b[39m 0.5.2 \n",
      "\u001b[32mv\u001b[39m \u001b[34mpurrr  \u001b[39m 0.3.4      \n",
      "-- \u001b[1mConflicts\u001b[22m ------------------------------------------ tidyverse_conflicts() --\n",
      "\u001b[31mx\u001b[39m \u001b[34mdplyr\u001b[39m::\u001b[32mfilter()\u001b[39m masks \u001b[34mstats\u001b[39m::filter()\n",
      "\u001b[31mx\u001b[39m \u001b[34mdplyr\u001b[39m::\u001b[32mlag()\u001b[39m    masks \u001b[34mstats\u001b[39m::lag()\n",
      "\u001b[31mx\u001b[39m \u001b[34mpurrr\u001b[39m::\u001b[32mlift()\u001b[39m   masks \u001b[34mcaret\u001b[39m::lift()\n",
      "Loading required package: randomForest\n",
      "\n",
      "randomForest 4.6-14\n",
      "\n",
      "Type rfNews() to see new features/changes/bug fixes.\n",
      "\n",
      "\n",
      "Attaching package: 'randomForest'\n",
      "\n",
      "\n",
      "The following object is masked from 'package:dplyr':\n",
      "\n",
      "    combine\n",
      "\n",
      "\n",
      "The following object is masked from 'package:ggplot2':\n",
      "\n",
      "    margin\n",
      "\n",
      "\n",
      "Loading required package: glmnet\n",
      "\n",
      "Loading required package: Matrix\n",
      "\n",
      "\n",
      "Attaching package: 'Matrix'\n",
      "\n",
      "\n",
      "The following objects are masked from 'package:tidyr':\n",
      "\n",
      "    expand, pack, unpack\n",
      "\n",
      "\n",
      "Loaded glmnet 4.1-2\n",
      "\n",
      "Loading required package: nnet\n",
      "\n",
      "Loading required package: MLmetrics\n",
      "\n",
      "\n",
      "Attaching package: 'MLmetrics'\n",
      "\n",
      "\n",
      "The following objects are masked from 'package:caret':\n",
      "\n",
      "    MAE, RMSE\n",
      "\n",
      "\n",
      "The following object is masked from 'package:base':\n",
      "\n",
      "    Recall\n",
      "\n",
      "\n"
     ]
    }
   ],
   "source": [
    "# List of required packages\n",
    "required_packages <- c(\"caret\", \"tidyverse\", \"randomForest\", \"glmnet\", \"nnet\", \"tibble\", \"MLmetrics\", \"ggplot2\")\n",
    "\n",
    "# Install any missing packages\n",
    "for (package in required_packages) {\n",
    "  if (!require(package, character.only = TRUE)) {\n",
    "    install.packages(package)\n",
    "    library(package, character.only = TRUE)\n",
    "  }\n",
    "}\n",
    "\n",
    "# Load the libraries\n",
    "library(caret)\n",
    "library(tidyverse)\n",
    "library(randomForest)\n",
    "library(glmnet)\n",
    "library(nnet)\n",
    "library(tibble)\n",
    "library(MLmetrics)\n",
    "library(ggplot2)"
   ]
  },
  {
   "cell_type": "markdown",
   "metadata": {},
   "source": [
    "I will change every categorical features into factor. The reason is for this is:\n",
    "\n",
    "1. Like question one, the lm function will automatically one-hot encode everything.\n",
    "2. According to the above questions, the income will play big part in the model. Thus, one-hot encoded it makes the weightage bigger.\n",
    "3. Some of the categorical features like gender is suitable for the encoded type."
   ]
  },
  {
   "cell_type": "code",
   "execution_count": 6,
   "metadata": {},
   "outputs": [],
   "source": [
    "# Identify the categorical columns\n",
    "categorical_columns <- sapply(train_data, function(col) is.factor(col) | is.character(col))\n",
    "\n",
    "# Get the names of categorical columns\n",
    "cat_colnames <- names(train_data)[categorical_columns]\n",
    "\n",
    "cat_data_tr <- train_data[, cat_colnames]  \n",
    "cat_data_ts <- test_data[, cat_colnames]\n",
    "\n",
    "# change every categorical data into factor\n",
    "for(i in colnames(cat_data_tr)){\n",
    "    cat_data_tr[[i]] <- as.factor(cat_data_tr[[i]])\n",
    "    cat_data_ts[[i]] <- as.factor(cat_data_ts[[i]])\n",
    "}"
   ]
  },
  {
   "cell_type": "markdown",
   "metadata": {},
   "source": [
    "As for the rest of the features, I will make everything above 0. The reason is that I want to do polynomial degree and for every even degree, it wont be making sense if the negative value is the same as the positive values."
   ]
  },
  {
   "cell_type": "code",
   "execution_count": 7,
   "metadata": {},
   "outputs": [],
   "source": [
    "# Select the rest of the colmns excluding the categorical columns and happiness\n",
    "non_categorical_columns <- setdiff(colnames(train_data %>% select(-happiness)), cat_colnames)\n",
    "non_cat_data_tr <- train_data[, non_categorical_columns]\n",
    "non_cat_data_ts <- test_data[, non_categorical_columns]\n",
    "\n",
    "# make function to convert every values into more than 0\n",
    "make_sequential <- function(data, cols) {\n",
    "  for (col in cols) {\n",
    "    # Get the column values\n",
    "    values <- data[[col]]\n",
    "    \n",
    "    # Shift values to ensure minimum value is 1\n",
    "    min_value <- min(values)\n",
    "    data[[col]] <- values - min_value + 1\n",
    "  }\n",
    "  return(data)\n",
    "}\n",
    "\n",
    "# get the colnames of the non_cat_data_tr\n",
    "columns_to_sequential <- colnames(non_cat_data_tr)\n",
    "\n",
    "# transform each values\n",
    "non_cat_data_tr <- make_sequential(non_cat_data_tr, columns_to_sequential)\n",
    "non_cat_data_ts <- make_sequential(non_cat_data_ts, columns_to_sequential)"
   ]
  },
  {
   "cell_type": "code",
   "execution_count": 8,
   "metadata": {},
   "outputs": [
    {
     "name": "stdout",
     "output_type": "stream",
     "text": [
      "'data.frame':\t500 obs. of  43 variables:\n",
      " $ gender                                                         : Factor w/ 3 levels \"Female\",\"Male\",..: 2 1 2 2 2 2 1 2 2 1 ...\n",
      " $ income                                                         : Factor w/ 9 levels \"0 - 10k\",\"10k - 15k\",..: 6 6 3 3 9 9 7 3 8 5 ...\n",
      " $ whatIsYourHeightExpressItAsANumberInMetresM                    : Factor w/ 10 levels \"140 - 150\",\"150 - 155\",..: 5 5 7 7 7 6 3 7 7 3 ...\n",
      " $ doYouFeelASenseOfPurposeAndMeaningInYourLife104                : Factor w/ 2 levels \"No\",\"Yes\": 2 2 2 2 2 2 2 2 2 2 ...\n",
      " $ howDoYouReconcileSpiritualBeliefsWithScientificOrRationalThinki: Factor w/ 3 levels \"They are separate\",..: 3 2 2 3 3 1 1 3 1 2 ...\n",
      " $ howOftenDoYouFeelSociallyConnectedWithYourPeersAndFriends      : Factor w/ 4 levels \"Always\",\"Never\",..: 4 3 4 3 4 4 4 2 4 2 ...\n",
      " $ doYouHaveASupportSystemOfFriendsAndFamilyToTurnToWhenNeeded    : Factor w/ 4 levels \"No\",\"Yes, I have both\",..: 2 2 2 2 4 2 3 2 2 2 ...\n",
      " $ howOftenDoYouParticipateInSocialActivitiesIncludingClubsSportsV: Factor w/ 5 levels \"At least once a month\",..: 4 3 1 4 5 4 5 1 2 1 ...\n",
      " $ doYouFeelComfortableEngagingInConversationsWithPeopleFromDiffer: Factor w/ 4 levels \"Always\",\"Never\",..: 2 1 4 1 2 1 4 2 1 2 ...\n",
      " $ doYouFeelASenseOfPurposeAndMeaningInYourLife105                : Factor w/ 2 levels \"No\",\"Yes\": 2 2 2 1 2 2 2 1 2 2 ...\n",
      " $ alwaysAnxious                                                  : num  1 1 2 3 4 2 3 5 1 2 ...\n",
      " $ alwaysStressed                                                 : num  2 1 2 4 4 2 2 4 1 2 ...\n",
      " $ alwaysAccountableAndResponsibleForYourActions                  : num  5 4 4 5 4 5 3 3 4 5 ...\n",
      " $ alwaysCalm                                                     : num  4 4 4 2 2 5 3 5 3 4 ...\n",
      " $ myBodyIsHypermobileAndLovesToMove                              : num  1 5 4 1 3 4 4 4 3 5 ...\n",
      " $ alwaysHaveFun                                                  : num  1 4 2 1 2 5 3 3 3 4 ...\n",
      " $ alwaysSerious                                                  : num  3 3 2 5 4 2 1 3 2 2 ...\n",
      " $ alwaysDepressed                                                : num  3 2 2 3 3 2 1 4 2 1 ...\n",
      " $ alwaysLoveAndCareForYourself                                   : num  5 3 4 2 2 5 1 2 1 5 ...\n",
      " $ extremelyGoodAbilityToSense                                    : num  5 4 4 3 4 4 4 5 3 5 ...\n",
      " $ alwaysHaveDigestiveProblems                                    : num  2 2 2 4 3 4 1 1 2 3 ...\n",
      " $ iAmIntenselyInterestedInOtherPeople                            : num  3 3 4 3 3 1 5 1 2 5 ...\n",
      " $ iRarelyWakeUpFeelingRested                                     : num  1 3 2 1 3 3 1 4 3 3 ...\n",
      " $ iFindMostThingsAmusing                                         : num  3 3 4 1 2 4 3 4 1 3 ...\n",
      " $ iAmAlwaysCommittedAndInvolved                                  : num  3 4 4 4 4 5 3 3 3 1 ...\n",
      " $ iDoNotThinkThatTheWorldIsAGoodPlace                            : num  3 1 2 5 4 2 1 4 3 2 ...\n",
      " $ iAmWellSatisfiedAboutEverythingInMyLife                        : num  3 2 3 1 1 5 1 2 2 4 ...\n",
      " $ iFindBeautyInSomeThings                                        : num  2 3 3 3 3 3 2 2 3 3 ...\n",
      " $ iAlwaysHaveACheerfulEffectOnOthers                             : num  3 3 4 1 1 4 3 1 1 5 ...\n",
      " $ iFeelThatIAmNotEspeciallyInControlOfMyLife                     : num  3 1 2 5 4 1 5 4 3 1 ...\n",
      " $ iUsuallyHaveAGoodInfluenceOnEvents                             : num  1 5 4 3 2 3 3 2 3 4 ...\n",
      " $ iDontHaveFunWithOtherPeople                                    : num  3 3 2 1 3 2 2 2 4 2 ...\n",
      " $ alwaysEngageInPreparingAndUsingYourSkillsAndTalentsInOrderToGai: num  4 5 4 1 2 4 1 1 3 3 ...\n",
      " $ alwaysMakingProgress                                           : num  5 1 4 1 3 5 3 3 3 5 ...\n",
      " $ extremelyGoodCommunicator                                      : num  4 3 4 3 3 4 3 3 1 4 ...\n",
      " $ iDontFeelParticularlyPleasedWithTheWayIAm                      : num  1 4 2 4 4 1 4 4 3 2 ...\n",
      " $ iFeelThatLifeIsVeryRewarding                                   : num  3 3 4 1 3 5 3 1 4 4 ...\n",
      " $ iHaveVeryWarmFeelingsTowardsAlmostEveryone                     : num  4 3 4 3 3 5 3 3 2 4 ...\n",
      " $ iAmNotParticularlyOptimisticAboutTheFuture                     : num  3 2 2 3 3 4 2 4 2 3 ...\n",
      " $ lifeIsGood                                                     : num  3 3 4 1 2 5 1 3 4 4 ...\n",
      " $ iLaughALot                                                     : num  3 3 3 1 1 4 4 3 2 5 ...\n",
      " $ iDontThinkILookAttractive                                      : num  1 2 2 4 4 3 3 3 3 3 ...\n",
      " $ happiness                                                      : num  16.679 5.553 -0.671 -6.009 14.143 ...\n"
     ]
    }
   ],
   "source": [
    "# combine the columns and add happiness\n",
    "final_data_tr <- cbind(cat_data_tr, non_cat_data_tr)\n",
    "final_data_tr$happiness <- train_data$happiness\n",
    "\n",
    "final_data_ts <- cbind(cat_data_ts, non_cat_data_ts)\n",
    "\n",
    "str(final_data_tr)"
   ]
  },
  {
   "cell_type": "markdown",
   "metadata": {},
   "source": [
    "Next, I will do feature selections using Random Forest. The reason is that the Random Forest eliminates values and also give the feature important scores."
   ]
  },
  {
   "cell_type": "code",
   "execution_count": 9,
   "metadata": {},
   "outputs": [
    {
     "name": "stdout",
     "output_type": "stream",
     "text": [
      "                                                                                                                        Feature\n",
      "income                                                                                                                   income\n",
      "alwaysStressed                                                                                                   alwaysStressed\n",
      "whatIsYourHeightExpressItAsANumberInMetresM                                         whatIsYourHeightExpressItAsANumberInMetresM\n",
      "iDontFeelParticularlyPleasedWithTheWayIAm                                             iDontFeelParticularlyPleasedWithTheWayIAm\n",
      "alwaysAnxious                                                                                                     alwaysAnxious\n",
      "alwaysCalm                                                                                                           alwaysCalm\n",
      "alwaysHaveFun                                                                                                     alwaysHaveFun\n",
      "howOftenDoYouParticipateInSocialActivitiesIncludingClubsSportsV howOftenDoYouParticipateInSocialActivitiesIncludingClubsSportsV\n",
      "iFindMostThingsAmusing                                                                                   iFindMostThingsAmusing\n",
      "alwaysDepressed                                                                                                 alwaysDepressed\n",
      "doYouFeelComfortableEngagingInConversationsWithPeopleFromDiffer doYouFeelComfortableEngagingInConversationsWithPeopleFromDiffer\n",
      "iUsuallyHaveAGoodInfluenceOnEvents                                                           iUsuallyHaveAGoodInfluenceOnEvents\n",
      "iAmWellSatisfiedAboutEverythingInMyLife                                                 iAmWellSatisfiedAboutEverythingInMyLife\n",
      "iLaughALot                                                                                                           iLaughALot\n",
      "lifeIsGood                                                                                                           lifeIsGood\n",
      "iAmIntenselyInterestedInOtherPeople                                                         iAmIntenselyInterestedInOtherPeople\n",
      "iAlwaysHaveACheerfulEffectOnOthers                                                           iAlwaysHaveACheerfulEffectOnOthers\n",
      "iFeelThatLifeIsVeryRewarding                                                                       iFeelThatLifeIsVeryRewarding\n",
      "howOftenDoYouFeelSociallyConnectedWithYourPeersAndFriends             howOftenDoYouFeelSociallyConnectedWithYourPeersAndFriends\n",
      "iFeelThatIAmNotEspeciallyInControlOfMyLife                                           iFeelThatIAmNotEspeciallyInControlOfMyLife\n",
      "iDoNotThinkThatTheWorldIsAGoodPlace                                                         iDoNotThinkThatTheWorldIsAGoodPlace\n",
      "doYouHaveASupportSystemOfFriendsAndFamilyToTurnToWhenNeeded         doYouHaveASupportSystemOfFriendsAndFamilyToTurnToWhenNeeded\n",
      "alwaysSerious                                                                                                     alwaysSerious\n",
      "myBodyIsHypermobileAndLovesToMove                                                             myBodyIsHypermobileAndLovesToMove\n",
      "iDontHaveFunWithOtherPeople                                                                         iDontHaveFunWithOtherPeople\n",
      "iHaveVeryWarmFeelingsTowardsAlmostEveryone                                           iHaveVeryWarmFeelingsTowardsAlmostEveryone\n",
      "extremelyGoodAbilityToSense                                                                         extremelyGoodAbilityToSense\n",
      "iFindBeautyInSomeThings                                                                                 iFindBeautyInSomeThings\n",
      "iAmNotParticularlyOptimisticAboutTheFuture                                           iAmNotParticularlyOptimisticAboutTheFuture\n",
      "iDontThinkILookAttractive                                                                             iDontThinkILookAttractive\n",
      "                                                                Importance\n",
      "income                                                          44178.5553\n",
      "alwaysStressed                                                   5947.3374\n",
      "whatIsYourHeightExpressItAsANumberInMetresM                      4844.0585\n",
      "iDontFeelParticularlyPleasedWithTheWayIAm                        2279.3108\n",
      "alwaysAnxious                                                    1964.1777\n",
      "alwaysCalm                                                       1797.1594\n",
      "alwaysHaveFun                                                    1702.6001\n",
      "howOftenDoYouParticipateInSocialActivitiesIncludingClubsSportsV  1656.2399\n",
      "iFindMostThingsAmusing                                           1577.4190\n",
      "alwaysDepressed                                                  1466.2387\n",
      "doYouFeelComfortableEngagingInConversationsWithPeopleFromDiffer  1462.7300\n",
      "iUsuallyHaveAGoodInfluenceOnEvents                               1148.5276\n",
      "iAmWellSatisfiedAboutEverythingInMyLife                          1087.5997\n",
      "iLaughALot                                                       1058.3139\n",
      "lifeIsGood                                                       1055.2031\n",
      "iAmIntenselyInterestedInOtherPeople                              1052.9990\n",
      "iAlwaysHaveACheerfulEffectOnOthers                               1016.4329\n",
      "iFeelThatLifeIsVeryRewarding                                      969.6117\n",
      "howOftenDoYouFeelSociallyConnectedWithYourPeersAndFriends         959.5005\n",
      "iFeelThatIAmNotEspeciallyInControlOfMyLife                        930.2709\n",
      "iDoNotThinkThatTheWorldIsAGoodPlace                               924.1132\n",
      "doYouHaveASupportSystemOfFriendsAndFamilyToTurnToWhenNeeded       891.8883\n",
      "alwaysSerious                                                     885.0059\n",
      "myBodyIsHypermobileAndLovesToMove                                 884.9762\n",
      "iDontHaveFunWithOtherPeople                                       863.3716\n",
      "iHaveVeryWarmFeelingsTowardsAlmostEveryone                        852.4106\n",
      "extremelyGoodAbilityToSense                                       803.4302\n",
      "iFindBeautyInSomeThings                                           783.0309\n",
      "iAmNotParticularlyOptimisticAboutTheFuture                        779.8566\n",
      "iDontThinkILookAttractive                                         773.1146\n"
     ]
    }
   ],
   "source": [
    "# create rf model\n",
    "set.seed(42)\n",
    "rf_model <- randomForest(happiness ~ ., data = final_data_tr, importance = TRUE)\n",
    "\n",
    "# Extract feature importance scores\n",
    "importance_scores <- importance(rf_model)\n",
    "importance_df <- data.frame(Feature = rownames(importance_scores), Importance = importance_scores[, 'IncNodePurity'])\n",
    "\n",
    "# Select features with high importance\n",
    "importance_df <- importance_df %>% arrange(desc(Importance))\n",
    "selected_features_df <- importance_df[1:30,]\n",
    "\n",
    "# Print the selected features\n",
    "print(selected_features_df)"
   ]
  },
  {
   "cell_type": "markdown",
   "metadata": {},
   "source": [
    "Next, I want to avoid making polynomial features out of the categorical values. Thus, I am going to seperate the colnames for categorical features."
   ]
  },
  {
   "cell_type": "code",
   "execution_count": 10,
   "metadata": {},
   "outputs": [],
   "source": [
    "# take the selected features \n",
    "selected_features <- selected_features_df$Feature\n",
    "\n",
    "# take the categorical features colnames\n",
    "feature_cat_df <- selected_features_df %>% filter(Feature %in% cat_colnames)\n",
    "feature_cat_names <-feature_cat_df$Feature\n",
    "\n",
    "# take the non categorical features colnames\n",
    "feature_not_cat_df <- selected_features_df %>% filter(!Feature %in% cat_colnames)\n",
    "feature_not_cat_names <- feature_not_cat_df$Feature"
   ]
  },
  {
   "cell_type": "markdown",
   "metadata": {},
   "source": [
    "Let's split the data into the training and validation dataset"
   ]
  },
  {
   "cell_type": "code",
   "execution_count": 11,
   "metadata": {},
   "outputs": [],
   "source": [
    "set.seed(42)\n",
    "# Subset the data to include only the selected features\n",
    "selected_train <- final_data_tr[, selected_features]\n",
    "selected_train$happiness <- final_data_tr$happiness\n",
    "\n",
    "# Create data partition\n",
    "trainIndex <- createDataPartition(selected_train$happiness, p = 0.8, list = FALSE, times = 1)\n",
    "\n",
    "# Split the data into training and validation sets\n",
    "trainData <- selected_train[trainIndex, ]\n",
    "validationData <- selected_train[-trainIndex, ]"
   ]
  },
  {
   "cell_type": "markdown",
   "metadata": {},
   "source": [
    "I will build parametric model because after trying the model with just basic lm and rpart function, I found that lm works better. Thus, I am sticking with parametric models.\n",
    "\n",
    "To get the parametric model perform well, there two things that we can do:\n",
    "\n",
    "1. Feature engineering\n",
    "2. Regularization\n",
    "\n",
    "Feature engineering such as polynomial degrees are useful to make the model learn better since the parametric models do not have lots of hyperparameter like non-parametric models.\n",
    "\n",
    "The regularization such as L1, L2, and elastic net are very useful to keep the model from overfitting."
   ]
  },
  {
   "cell_type": "markdown",
   "metadata": {},
   "source": [
    "Let's create the polynomial degree from the non-categorical features according to the importance level."
   ]
  },
  {
   "cell_type": "code",
   "execution_count": 12,
   "metadata": {},
   "outputs": [
    {
     "name": "stdout",
     "output_type": "stream",
     "text": [
      " [1] \"I(alwaysStressed^2)\"                            \n",
      " [2] \"I(iDontFeelParticularlyPleasedWithTheWayIAm^2)\" \n",
      " [3] \"I(alwaysAnxious^2)\"                             \n",
      " [4] \"I(alwaysCalm^2)\"                                \n",
      " [5] \"I(alwaysHaveFun^2)\"                             \n",
      " [6] \"I(iFindMostThingsAmusing^2)\"                    \n",
      " [7] \"I(alwaysDepressed^2)\"                           \n",
      " [8] \"I(iUsuallyHaveAGoodInfluenceOnEvents^2)\"        \n",
      " [9] \"I(iAmWellSatisfiedAboutEverythingInMyLife^2)\"   \n",
      "[10] \"I(iLaughALot^2)\"                                \n",
      "[11] \"I(lifeIsGood^2)\"                                \n",
      "[12] \"I(iAmIntenselyInterestedInOtherPeople^2)\"       \n",
      "[13] \"I(iAlwaysHaveACheerfulEffectOnOthers^2)\"        \n",
      "[14] \"I(iFeelThatLifeIsVeryRewarding^2)\"              \n",
      "[15] \"I(iFeelThatIAmNotEspeciallyInControlOfMyLife^2)\"\n",
      "[16] \"I(iDoNotThinkThatTheWorldIsAGoodPlace^2)\"       \n",
      "[17] \"I(alwaysSerious^2)\"                             \n",
      "[18] \"I(myBodyIsHypermobileAndLovesToMove^2)\"         \n",
      "[19] \"I(iDontHaveFunWithOtherPeople^2)\"               \n",
      "[20] \"I(iHaveVeryWarmFeelingsTowardsAlmostEveryone^2)\"\n",
      "[21] \"I(extremelyGoodAbilityToSense^2)\"               \n",
      "[22] \"I(iFindBeautyInSomeThings^2)\"                   \n",
      "[23] \"I(iAmNotParticularlyOptimisticAboutTheFuture^2)\"\n",
      "[24] \"I(iDontThinkILookAttractive^2)\"                 \n",
      "[25] \"I(alwaysStressed^3)\"                            \n",
      "[26] \"I(iDontFeelParticularlyPleasedWithTheWayIAm^3)\" \n",
      "[27] \"I(alwaysAnxious^3)\"                             \n",
      "[28] \"I(alwaysCalm^3)\"                                \n",
      "[29] \"I(alwaysHaveFun^3)\"                             \n",
      "[30] \"I(iFindMostThingsAmusing^3)\"                    \n",
      "[31] \"I(alwaysDepressed^3)\"                           \n",
      "[32] \"I(iUsuallyHaveAGoodInfluenceOnEvents^3)\"        \n",
      "[33] \"I(iAmWellSatisfiedAboutEverythingInMyLife^3)\"   \n",
      "[34] \"I(iLaughALot^3)\"                                \n",
      "[35] \"I(lifeIsGood^3)\"                                \n",
      "[36] \"I(iAmIntenselyInterestedInOtherPeople^3)\"       \n",
      "[37] \"I(iAlwaysHaveACheerfulEffectOnOthers^3)\"        \n",
      "[38] \"I(iFeelThatLifeIsVeryRewarding^3)\"              \n",
      "[39] \"I(iFeelThatIAmNotEspeciallyInControlOfMyLife^3)\"\n",
      "[40] \"I(iDoNotThinkThatTheWorldIsAGoodPlace^3)\"       \n",
      "[41] \"I(alwaysSerious^3)\"                             \n",
      "[42] \"I(myBodyIsHypermobileAndLovesToMove^3)\"         \n",
      "[43] \"I(iDontHaveFunWithOtherPeople^3)\"               \n",
      "[44] \"I(iHaveVeryWarmFeelingsTowardsAlmostEveryone^3)\"\n",
      "[45] \"I(extremelyGoodAbilityToSense^3)\"               \n",
      "[46] \"I(iFindBeautyInSomeThings^3)\"                   \n",
      "[47] \"I(iAmNotParticularlyOptimisticAboutTheFuture^3)\"\n",
      "[48] \"I(iDontThinkILookAttractive^3)\"                 \n",
      "[49] \"I(alwaysStressed^4)\"                            \n",
      "[50] \"I(iDontFeelParticularlyPleasedWithTheWayIAm^4)\" \n",
      "[51] \"I(alwaysAnxious^4)\"                             \n",
      "[52] \"I(alwaysCalm^4)\"                                \n",
      "[53] \"I(alwaysHaveFun^4)\"                             \n",
      "[54] \"I(iFindMostThingsAmusing^4)\"                    \n",
      "[55] \"I(alwaysDepressed^4)\"                           \n",
      "[56] \"I(iUsuallyHaveAGoodInfluenceOnEvents^4)\"        \n",
      "[57] \"I(iAmWellSatisfiedAboutEverythingInMyLife^4)\"   \n",
      "[58] \"I(iLaughALot^4)\"                                \n",
      "[59] \"I(lifeIsGood^4)\"                                \n",
      "[60] \"I(iAmIntenselyInterestedInOtherPeople^4)\"       \n",
      "[61] \"I(iAlwaysHaveACheerfulEffectOnOthers^4)\"        \n",
      "[62] \"I(iFeelThatLifeIsVeryRewarding^4)\"              \n",
      "[63] \"I(iFeelThatIAmNotEspeciallyInControlOfMyLife^4)\"\n",
      "[64] \"I(iDoNotThinkThatTheWorldIsAGoodPlace^4)\"       \n",
      "[65] \"I(alwaysSerious^4)\"                             \n",
      "[66] \"I(myBodyIsHypermobileAndLovesToMove^4)\"         \n",
      "[67] \"I(iDontHaveFunWithOtherPeople^4)\"               \n",
      "[68] \"I(iHaveVeryWarmFeelingsTowardsAlmostEveryone^4)\"\n",
      "[69] \"I(extremelyGoodAbilityToSense^4)\"               \n",
      "[70] \"I(iAmNotParticularlyOptimisticAboutTheFuture^4)\"\n",
      "[71] \"I(iDontThinkILookAttractive^4)\"                 \n"
     ]
    }
   ],
   "source": [
    "# empty variable to stores the polynomial features\n",
    "poly_degree_list <- c()\n",
    "\n",
    "# for looping from 2 to 5 (the maximum number of unique value in the features)\n",
    "for(i in 2:5){\n",
    "    for(j in feature_not_cat_names){\n",
    "        # if the i is less than the length of the unique values of the features then skip it\n",
    "        if(i < length(unique(final_data_tr[[j]]))){\n",
    "            # creating the formula\n",
    "            poly_feat <- paste0(\"I(\", j, \"^\", i, \")\")\n",
    "            poly_degree_list <- c(poly_degree_list, poly_feat)\n",
    "        }\n",
    "    }\n",
    "}\n",
    "print(poly_degree_list)\n",
    "\n",
    "# create variable to store the whole features that are going to be tested\n",
    "features <- c(selected_features, poly_degree_list)"
   ]
  },
  {
   "cell_type": "markdown",
   "metadata": {},
   "source": [
    "Let's analyze the RMSE for each of the number of features for the lm model."
   ]
  },
  {
   "cell_type": "code",
   "execution_count": 13,
   "metadata": {},
   "outputs": [],
   "source": [
    "# empty variables to store the RMSE value\n",
    "rmse_tr <- c()\n",
    "rmse_vl <- c()\n",
    "\n",
    "# for looping the number of features to be tested.\n",
    "for(i in 1:length(features)){\n",
    "    # create the formula\n",
    "    formula <- as.formula(paste(\"happiness ~\", paste(features[1:i], collapse = \" + \")))\n",
    "    # create the model\n",
    "    model <- lm(formula, data = trainData)\n",
    "    # store the RMSE scores\n",
    "    rmse_tr[i] <- rmse_func(model, trainData)\n",
    "    rmse_vl[i] <- rmse_func(model, validationData)\n",
    "}"
   ]
  },
  {
   "cell_type": "markdown",
   "metadata": {},
   "source": [
    "Let's plot the RMSE training vs the validation training"
   ]
  },
  {
   "cell_type": "code",
   "execution_count": 14,
   "metadata": {},
   "outputs": [
    {
     "data": {
      "image/png": "[encoded data removed]",
      "text/plain": [
       "plot without title"
      ]
     },
     "metadata": {
      "image/png": {
       "height": 420,
       "width": 420
      }
     },
     "output_type": "display_data"
    }
   ],
   "source": [
    "# Combine data into a data frame\n",
    "df <- data.frame(\n",
    "  Index = 1:length(rmse_tr),\n",
    "  RMSE_tr = rmse_tr,\n",
    "  RMSE_vl = rmse_vl\n",
    ")\n",
    "\n",
    "# Reshape data into long format using pivot_longer\n",
    "df_long <- df %>%\n",
    "  pivot_longer(cols = -Index, names_to = \"Variable\", values_to = \"Value\")\n",
    "\n",
    "# Create the plot using ggplot2\n",
    "ggplot(data = df_long, aes(x = Index, y = Value, color = Variable, group = Variable)) +\n",
    "  geom_line() +\n",
    "  geom_point() +\n",
    "  labs(x = \"Features\", y = \"RMSE\", title = \"RMSE Training vs Validation\") +\n",
    "  scale_color_manual(values = c(\"RMSE_tr\" = \"blue\", \"RMSE_vl\" = \"red\")) +\n",
    "  theme_minimal() +\n",
    "  theme(legend.title = element_blank())"
   ]
  },
  {
   "cell_type": "markdown",
   "metadata": {},
   "source": [
    "After trying so many combinations, I chose to kind of overfit my model first and uses the elastic net regression to regularize the regression models.\n",
    "\n",
    "The number of features up until 78 works best with the model."
   ]
  },
  {
   "cell_type": "code",
   "execution_count": 15,
   "metadata": {},
   "outputs": [],
   "source": [
    "# create the final and testing model\n",
    "fin_formula <- as.formula(paste(\"happiness ~\", paste(features[1:78], collapse = \" + \")))\n",
    "test_formula <- as.formula(paste(\"~\", paste(features[1:78], collapse = \" + \")))\n",
    "\n",
    "# create model matrix for the train and validation dataset to be fitted in the glm function\n",
    "x_train <- model.matrix(fin_formula, trainData)[, -1]  # Remove intercept term\n",
    "y_train <- trainData$happiness\n",
    "x_val <- model.matrix(fin_formula, validationData)[, -1]\n",
    "y_val <- validationData$happiness"
   ]
  },
  {
   "cell_type": "markdown",
   "metadata": {},
   "source": [
    "Let's train the model on the trainData first to see the performance"
   ]
  },
  {
   "cell_type": "code",
   "execution_count": 18,
   "metadata": {},
   "outputs": [
    {
     "name": "stdout",
     "output_type": "stream",
     "text": [
      "\n",
      "Call:  cv.glmnet(x = x_train, y = y_train, alpha = 0.5) \n",
      "\n",
      "Measure: Mean-Squared Error \n",
      "\n",
      "    Lambda Index Measure    SE Nonzero\n",
      "min 0.2828    42   58.89 5.843      56\n",
      "1se 0.8637    30   64.32 6.373      38\n",
      "[1] \"Elastic Net Training RMSE: 6.65395019401319\"\n",
      "[1] \"Elastic Net Validation RMSE: 7.53351135040194\"\n",
      "[1] \"CV Elastic RMSE: 7.67394318248639\"\n"
     ]
    }
   ],
   "source": [
    "set.seed(42)\n",
    "# Elastic Net regression (alpha = 0.5)\n",
    "elastic_net_model <- cv.glmnet(x_train, y_train, alpha = 0.5)\n",
    "print(elastic_net_model)\n",
    "\n",
    "# predict the x_train and x_val\n",
    "elastic_pred_train <- predict(elastic_net_model, s = elastic_net_model$lambda.min, newx = x_train)\n",
    "elastic_pred_val <- predict(elastic_net_model, s = elastic_net_model$lambda.min, newx = x_val)\n",
    "\n",
    "# get the RMSE vallues\n",
    "elastic_rmse_train <- sqrt(mean((y_train - elastic_pred_train)^2))\n",
    "elastic_rmse_val <- sqrt(mean((y_val - elastic_pred_val)^2))\n",
    "print(paste(\"Elastic Net Training RMSE:\", elastic_rmse_train))\n",
    "print(paste(\"Elastic Net Validation RMSE:\", elastic_rmse_val))\n",
    "\n",
    "# Calculate the cross-validated RMSE\n",
    "cv_elastic_mse <- elastic_net_model$cvm[elastic_net_model$lambda == elastic_net_model$lambda.min]\n",
    "cv_elastic_rmse <- sqrt(cv_elastic_mse)\n",
    "print(paste(\"CV Elastic RMSE:\", cv_elastic_rmse))"
   ]
  },
  {
   "cell_type": "markdown",
   "metadata": {},
   "source": [
    "As you can see, the model are not too overfitted.\n",
    "\n",
    "Let's build the final model."
   ]
  },
  {
   "cell_type": "code",
   "execution_count": 21,
   "metadata": {},
   "outputs": [
    {
     "name": "stdout",
     "output_type": "stream",
     "text": [
      "\n",
      "Call:  cv.glmnet(x = x_final, y = y_final, alpha = 0.5) \n",
      "\n",
      "Measure: Mean-Squared Error \n",
      "\n",
      "    Lambda Index Measure    SE Nonzero\n",
      "min 0.2808    42   57.64 4.476      44\n",
      "1se 0.7814    31   61.63 5.760      33\n",
      "[1] \"Fin CV Elastic RMSE: 7.59208876027628\"\n"
     ]
    }
   ],
   "source": [
    "# create model matrix for the train and validation dataset to be fitted in the glm function\n",
    "x_final <- model.matrix(fin_formula, final_data_tr)[, -1]\n",
    "y_final <- final_data_tr$happiness\n",
    "\n",
    "# Elastic Net regression (alpha = 0.5)\n",
    "set.seed(42)\n",
    "fin_elastic_net_model <- cv.glmnet(x_final, y_final, alpha = 0.5)\n",
    "print(fin_elastic_net_model)\n",
    "\n",
    "# Calculate the cross-validated RMSE\n",
    "cv_elastic_mse <- fin_elastic_net_model$cvm[fin_elastic_net_model$lambda == fin_elastic_net_model$lambda.min]\n",
    "cv_elastic_rmse <- sqrt(cv_elastic_mse)\n",
    "print(paste(\"Fin CV Elastic RMSE:\", cv_elastic_rmse))"
   ]
  },
  {
   "cell_type": "markdown",
   "metadata": {},
   "source": [
    "Let's export the model."
   ]
  },
  {
   "cell_type": "code",
   "execution_count": 22,
   "metadata": {},
   "outputs": [],
   "source": [
    "# export the model.\n",
    "save(fin_elastic_net_model, file = \"fin_elastic_net_model.RData\")"
   ]
  },
  {
   "cell_type": "code",
   "execution_count": 23,
   "metadata": {
    "id": "8x-H3d66g7ix",
    "vscode": {
     "languageId": "r"
    }
   },
   "outputs": [],
   "source": [
    "# Build your final model here, use additional coding blocks if you need to\n",
    "load(\"fin_elastic_net_model.RData\")\n",
    "fin.mod <-fin_elastic_net_model"
   ]
  },
  {
   "cell_type": "code",
   "execution_count": 29,
   "metadata": {
    "id": "j0SYx-zYg7ix",
    "vscode": {
     "languageId": "r"
    }
   },
   "outputs": [],
   "source": [
    "# get the testing data \n",
    "test <- model.matrix(test_formula, final_data_ts)[, -1]\n",
    "# If you are using any packages that perform the prediction differently, please change this line of code accordingly.\n",
    "pred.label <- predict(fin.mod, s = fin_elastic_net_model$lambda.min, test)\n",
    "# put these predicted labels in a csv file that you can use to commit to the Kaggle Leaderboard\n",
    "submission_df <- data.frame(\"RowIndex\" = seq(1, length(pred.label)), \"Prediction\" = pred.label)\n",
    "colnames(submission_df) <- c(\"RowIndex\", \"Prediction\")\n",
    "write.csv(\n",
    "    submission_df,  \n",
    "    \"RegressionPredictLabel.csv\", \n",
    "    row.names = F\n",
    ")"
   ]
  },
  {
   "cell_type": "code",
   "execution_count": null,
   "metadata": {
    "id": "gross-disaster",
    "outputId": "ac8b1b5a-ad80-42f7-824a-61432e4d64cf",
    "vscode": {
     "languageId": "r"
    }
   },
   "outputs": [],
   "source": [
    "## PLEASE DO NOT ALTER THIS CODE BLOCK, YOU ARE REQUIRED TO HAVE THIS CODE BLOCK IN YOUR JUPYTER NOTEBOOK SUBMISSION\n",
    "## Please skip (don't run) this if you are a student\n",
    "## For teaching team use only\n",
    "\n",
    "tryCatch(\n",
    "    {\n",
    "        source(\"../supplimentary.R\")\n",
    "    },\n",
    "    error = function(e){\n",
    "        source(\"supplimentary.R\")\n",
    "    }\n",
    ")\n",
    "\n",
    "truths <- tryCatch(\n",
    "    {\n",
    "        read.csv(\"../regression_test_label.csv\")\n",
    "    },\n",
    "    error = function(e){\n",
    "        read.csv(\"regression_test_label.csv\")\n",
    "    }\n",
    ")\n",
    "\n",
    "\n",
    "RMSE.fin <- rmse(pred.label, truths$x)\n",
    "cat(paste(\"RMSE is\", RMSE.fin))"
   ]
  },
  {
   "cell_type": "markdown",
   "metadata": {
    "id": "f_u6Dyj1xehk"
   },
   "source": [
    "# Part 2 Classification (50 Marks)"
   ]
  },
  {
   "cell_type": "markdown",
   "metadata": {},
   "source": [
    "A few thousand people were questioned in a [life and wellbeing survey](https://www.get-happier.com/) to build a model to predict happiness of an individual, but this time we want to predict a categorical score for perfect mental health, rather than a continuous score. You need to build 5-class classification models to optimally predict the variable in the survey dataset called 'perfectMentalHealth' based on any, or all, of the other survey question responses. \n",
    "\n",
    "You have been provided with two datasets, ```classification_train.csv``` and ```classification_test.csv```. Using these datasets, you hope to build a model that can predict 'perfectMentalHealth' using the other variables. ```classification_train.csv``` comes with the ground-truth target label (i.e. 'perfectMentalHealth' happiness classes) whereas `classification_test.csv` comes with independent variables (input information) only.\n",
    "\n",
    "On the order of around 70 survey questions have been converted into predictor variables that can be used to predict 'perfectMentalHealth'. We do not list all the predictor names here, but their names given in the data header can clearly be linked to the survey questions. E.g. the predictor variable 'iDontFeelParticularlyPleasedWithTheWayIAm' corresponds to the survey question 'I don’t feel particularly pleased with the way I am.'\n",
    "\n",
    "This question will also be in the form of a [Kaggle competition](https://www.kaggle.com/t/968d3b346acb47779771f47785c39e62) among students to find out who has the best model."
   ]
  },
  {
   "cell_type": "code",
   "execution_count": 30,
   "metadata": {},
   "outputs": [],
   "source": [
    "# Load in the train and test classification data.\n",
    "test_data <- read.csv(\"./classification_test.csv\")\n",
    "train_data <- read.csv(\"./classification_train.csv\")"
   ]
  },
  {
   "cell_type": "markdown",
   "metadata": {},
   "source": [
    "For the Classification competition, I want to change everything to numeric. Because it performs well on the model and some of the categorical features like gender are going to be dropped by the feature selections. While income is a lot better as a numeric feature in this case.\n",
    "\n",
    "I will also create a lot of polynomial degrees, so it would make sense if I transform most of the features to be more than 0."
   ]
  },
  {
   "cell_type": "code",
   "execution_count": 31,
   "metadata": {},
   "outputs": [
    {
     "name": "stdout",
     "output_type": "stream",
     "text": [
      "'data.frame':\t500 obs. of  43 variables:\n",
      " $ gender                                                         : num  1 1 2 2 1 1 2 2 1 1 ...\n",
      " $ income                                                         : num  2 3 1 9 3 1 8 2 4 1 ...\n",
      " $ whatIsYourHeightExpressItAsANumberInMetresM                    : num  3 5 4 4 6 4 7 4 3 4 ...\n",
      " $ doYouFeelASenseOfPurposeAndMeaningInYourLife104                : num  2 2 2 2 2 2 2 2 2 2 ...\n",
      " $ howDoYouReconcileSpiritualBeliefsWithScientificOrRationalThinki: num  2 3 2 2 1 2 2 2 2 1 ...\n",
      " $ howOftenDoYouFeelSociallyConnectedWithYourPeersAndFriends      : num  3 4 3 2 2 4 4 3 4 3 ...\n",
      " $ doYouHaveASupportSystemOfFriendsAndFamilyToTurnToWhenNeeded    : num  2 2 2 1 2 2 2 3 2 2 ...\n",
      " $ howOftenDoYouParticipateInSocialActivitiesIncludingClubsSportsV: num  3 3 3 1 2 2 2 2 1 5 ...\n",
      " $ doYouFeelComfortableEngagingInConversationsWithPeopleFromDiffer: num  4 4 2 2 1 3 4 4 4 4 ...\n",
      " $ doYouFeelASenseOfPurposeAndMeaningInYourLife105                : num  2 2 2 1 2 2 2 2 2 2 ...\n",
      " $ alwaysAnxious                                                  : num  2 3 5 3 1 2 2 1 3 1 ...\n",
      " $ alwaysStressed                                                 : num  1 4 4 3 4 2 3 3 3 1 ...\n",
      " $ alwaysAccountableAndResponsibleForYourActions                  : num  4 4 3 5 5 4 3 3 1 4 ...\n",
      " $ alwaysCalm                                                     : num  3 1 1 5 1 1 3 3 1 1 ...\n",
      " $ myBodyIsHypermobileAndLovesToMove                              : num  1 3 1 1 4 1 3 1 4 1 ...\n",
      " $ alwaysHaveFun                                                  : num  5 4 1 3 4 3 3 1 1 2 ...\n",
      " $ alwaysSerious                                                  : num  1 3 3 4 1 1 3 1 1 2 ...\n",
      " $ alwaysDepressed                                                : num  2 1 3 3 1 2 2 1 3 2 ...\n",
      " $ alwaysLoveAndCareForYourself                                   : num  5 5 2 5 4 5 3 3 3 4 ...\n",
      " $ extremelyGoodAbilityToSense                                    : num  4 4 3 4 5 4 3 4 1 3 ...\n",
      " $ alwaysHaveDigestiveProblems                                    : num  1 2 4 2 3 1 3 1 4 2 ...\n",
      " $ iAmIntenselyInterestedInOtherPeople                            : num  4 1 1 1 1 3 3 4 2 3 ...\n",
      " $ iRarelyWakeUpFeelingRested                                     : num  1 2 4 4 5 4 3 3 1 2 ...\n",
      " $ iFindMostThingsAmusing                                         : num  3 3 1 4 4 4 3 3 3 3 ...\n",
      " $ iAmAlwaysCommittedAndInvolved                                  : num  4 3 1 5 4 3 3 1 1 4 ...\n",
      " $ iDoNotThinkThatTheWorldIsAGoodPlace                            : num  3 3 2 4 2 1 3 3 4 4 ...\n",
      " $ iAmWellSatisfiedAboutEverythingInMyLife                        : num  1 3 3 4 3 3 3 3 3 2 ...\n",
      " $ iFindBeautyInSomeThings                                        : num  3 4 3 3 1 3 2 3 3 3 ...\n",
      " $ iAlwaysHaveACheerfulEffectOnOthers                             : num  3 3 3 3 3 3 3 3 2 1 ...\n",
      " $ iFeelThatIAmNotEspeciallyInControlOfMyLife                     : num  2 3 3 2 2 3 3 1 3 2 ...\n",
      " $ iUsuallyHaveAGoodInfluenceOnEvents                             : num  4 1 1 1 3 4 3 2 3 4 ...\n",
      " $ iDontHaveFunWithOtherPeople                                    : num  2 1 1 2 2 2 3 2 1 2 ...\n",
      " $ alwaysEngageInPreparingAndUsingYourSkillsAndTalentsInOrderToGai: num  5 4 1 4 5 4 3 3 3 4 ...\n",
      " $ alwaysMakingProgress                                           : num  5 4 3 5 3 4 3 4 3 3 ...\n",
      " $ extremelyGoodCommunicator                                      : num  4 3 4 5 3 3 3 3 3 5 ...\n",
      " $ iDontFeelParticularlyPleasedWithTheWayIAm                      : num  5 1 5 5 3 1 3 4 3 4 ...\n",
      " $ iFeelThatLifeIsVeryRewarding                                   : num  5 4 1 3 4 3 3 4 1 4 ...\n",
      " $ iHaveVeryWarmFeelingsTowardsAlmostEveryone                     : num  5 3 3 3 3 1 3 3 1 3 ...\n",
      " $ iAmNotParticularlyOptimisticAboutTheFuture                     : num  1 1 1 1 3 3 3 3 4 1 ...\n",
      " $ lifeIsGood                                                     : num  4 5 1 3 3 3 3 3 3 3 ...\n",
      " $ iLaughALot                                                     : num  3 3 4 3 4 3 3 4 5 4 ...\n",
      " $ iDontThinkILookAttractive                                      : num  1 2 3 1 1 4 3 1 3 3 ...\n",
      " $ perfectMentalHealth                                            : Factor w/ 5 levels \"-2\",\"-1\",\"0\",..: 5 4 3 1 4 1 3 3 2 3 ...\n"
     ]
    }
   ],
   "source": [
    "# Identify categorical columns\n",
    "categorical_columns <- sapply(train_data, function(col) is.factor(col) | is.character(col))\n",
    "\n",
    "# Get the names of categorical columns\n",
    "cat_colnames <- names(train_data)[categorical_columns]\n",
    "cat_data_tr <- train_data[, cat_colnames]  \n",
    "cat_data_ts <- test_data[, cat_colnames]\n",
    "\n",
    "# Select the rest of the columns excluding categorical columns\n",
    "non_categorical_columns <- setdiff(colnames(train_data %>% select(-perfectMentalHealth)), cat_colnames)\n",
    "non_cat_data_tr <- train_data[, non_categorical_columns]\n",
    "non_cat_data_ts <- test_data[, non_categorical_columns]\n",
    "\n",
    "# make function to convert every values into more than 0\n",
    "make_sequential <- function(data, cols) {\n",
    "  for (col in cols) {\n",
    "    # Get the column values\n",
    "    values <- data[[col]]\n",
    "    \n",
    "    # Shift values to ensure minimum value is 1\n",
    "    min_value <- min(values)\n",
    "    data[[col]] <- values - min_value + 1\n",
    "  }\n",
    "  return(data)\n",
    "}\n",
    "\n",
    "# get the colnames of the non_cat_data_tr\n",
    "columns_to_sequential <- colnames(non_cat_data_tr)\n",
    "\n",
    "# transform each values\n",
    "non_cat_data_tr <- make_sequential(non_cat_data_tr, columns_to_sequential)\n",
    "non_cat_data_ts <- make_sequential(non_cat_data_ts, columns_to_sequential)\n",
    "\n",
    "# combine the data into final_data_tr\n",
    "final_data_tr <- cbind(cat_data_tr, non_cat_data_tr)\n",
    "final_data_tr$perfectMentalHealth <- train_data$perfectMentalHealth\n",
    "\n",
    "final_data_ts <- cbind(cat_data_ts, non_cat_data_ts)\n",
    "\n",
    "\n",
    "# Convert categorical columns to factors and then to numeric\n",
    "final_data_tr[categorical_columns] <- lapply(final_data_tr[categorical_columns], function(x) as.numeric(as.factor(x)))\n",
    "final_data_ts[categorical_columns] <- lapply(final_data_ts[categorical_columns], function(x) as.numeric(as.factor(x)))\n",
    "\n",
    "# make the target variable as a factor since we want to do classification prediction model\n",
    "final_data_tr$perfectMentalHealth <- as.factor(train_data$perfectMentalHealth)\n",
    "final_data_tr <- final_data_tr %>% select(-perfectMentalHealth, perfectMentalHealth)\n",
    "str(final_data_tr)"
   ]
  },
  {
   "cell_type": "markdown",
   "metadata": {},
   "source": [
    "The model selection that I am going to use is the Random Forest, because it eliminates features and also give the MeanDecreaseAccuracy and MeanDecreaseGini"
   ]
  },
  {
   "cell_type": "code",
   "execution_count": 32,
   "metadata": {},
   "outputs": [
    {
     "name": "stdout",
     "output_type": "stream",
     "text": [
      "                                                          features\n",
      "1                                     alwaysLoveAndCareForYourself\n",
      "2                                                    alwaysHaveFun\n",
      "3                                                       alwaysCalm\n",
      "4                                                       lifeIsGood\n",
      "5                                                   alwaysStressed\n",
      "6  alwaysEngageInPreparingAndUsingYourSkillsAndTalentsInOrderToGai\n",
      "7                          iAmWellSatisfiedAboutEverythingInMyLife\n",
      "8                              iDoNotThinkThatTheWorldIsAGoodPlace\n",
      "9                       iFeelThatIAmNotEspeciallyInControlOfMyLife\n",
      "10                                     extremelyGoodAbilityToSense\n",
      "11                                    iFeelThatLifeIsVeryRewarding\n",
      "12                                          iFindMostThingsAmusing\n",
      "13                                                          income\n",
      "14                      iHaveVeryWarmFeelingsTowardsAlmostEveryone\n",
      "15                                                   alwaysAnxious\n",
      "16                 doYouFeelASenseOfPurposeAndMeaningInYourLife105\n",
      "17                                                 alwaysDepressed\n",
      "18                                      iRarelyWakeUpFeelingRested\n",
      "19       howOftenDoYouFeelSociallyConnectedWithYourPeersAndFriends\n",
      "20                       iDontFeelParticularlyPleasedWithTheWayIAm\n",
      "21                              iUsuallyHaveAGoodInfluenceOnEvents\n",
      "   MeanDecreaseAccuracy MeanDecreaseGini\n",
      "1             12.459198        16.266666\n",
      "2             11.956626        14.048295\n",
      "3             10.514191        14.088636\n",
      "4              9.219142        11.222465\n",
      "5              7.404869        12.487298\n",
      "6              5.022587        11.204215\n",
      "7              4.400194        10.190582\n",
      "8              4.170826        10.003101\n",
      "9              4.102139        11.087689\n",
      "10             4.007639         9.146962\n",
      "11             3.948584         9.377747\n",
      "12             3.671771         8.965866\n",
      "13             3.581918        12.756288\n",
      "14             3.579256        10.958011\n",
      "15             3.235090         9.261023\n",
      "16             2.588523         3.418119\n",
      "17             2.530895         7.571307\n",
      "18             2.245134        11.049474\n",
      "19             2.221891         8.779042\n",
      "20             2.127129         9.858243\n",
      "21             1.939560         8.088831\n"
     ]
    }
   ],
   "source": [
    "# create rf model\n",
    "set.seed(42)\n",
    "rf_model <- randomForest(perfectMentalHealth ~ ., data = final_data_tr, importance = TRUE)\n",
    "\n",
    "# Extract feature importance scores\n",
    "importance_scores <- importance(rf_model)\n",
    "importance_df <- data.frame(importance_scores) %>% \n",
    "    select(MeanDecreaseAccuracy, MeanDecreaseGini) %>%\n",
    "    rownames_to_column(var = \"features\") %>%\n",
    "    arrange(desc(MeanDecreaseAccuracy), desc(MeanDecreaseGini))\n",
    "\n",
    "# Select features with high importance\n",
    "selected_features_df <- importance_df[1:21,]\n",
    "\n",
    "# Print the selected features\n",
    "print(selected_features_df)\n",
    "selected_features <- selected_features_df$features"
   ]
  },
  {
   "cell_type": "markdown",
   "metadata": {},
   "source": [
    "I will be choosing parametric model for the classification, it is because I already tried to see the score for the macro F1 score for the basic DT and basic multinomial, and the parametric model F1 score consistently perform well.\n",
    "\n",
    "Next, let's split the data into train and validation dataset."
   ]
  },
  {
   "cell_type": "code",
   "execution_count": 34,
   "metadata": {},
   "outputs": [],
   "source": [
    "set.seed(150)\n",
    "# Subset the data to include only the selected features\n",
    "selected_train <- final_data_tr[, selected_features]\n",
    "selected_train$perfectMentalHealth <- final_data_tr$perfectMentalHealth\n",
    "\n",
    "# Create data partition\n",
    "trainIndex <- createDataPartition(selected_train$perfectMentalHealth, p = 0.8, list = FALSE, times = 1)\n",
    "\n",
    "# Split the data into training and validation sets\n",
    "trainData <- selected_train[trainIndex, ]\n",
    "validationData <- selected_train[-trainIndex, ]"
   ]
  },
  {
   "cell_type": "markdown",
   "metadata": {},
   "source": [
    "Let's create a function to calculate the macro F1 score."
   ]
  },
  {
   "cell_type": "code",
   "execution_count": 35,
   "metadata": {},
   "outputs": [],
   "source": [
    "# Define the function\n",
    "macro_f1_score <- function(model, df) {\n",
    "    # Generate predictions\n",
    "    predictions <- predict(model, df)\n",
    "    \n",
    "    # Calculate confusion matrix\n",
    "    confusion_matrix <- confusionMatrix(predictions, df$perfectMentalHealth)\n",
    "    \n",
    "    # Extract F1 scores by class\n",
    "    f1_scores <- confusion_matrix$byClass[, \"F1\"]\n",
    "    \n",
    "    # Calculate the macro F1 score\n",
    "    macro_f1_score <- mean(f1_scores, na.rm = TRUE)\n",
    "    \n",
    "    # Print the macro F1 score\n",
    "    return(macro_f1_score)\n",
    "}"
   ]
  },
  {
   "cell_type": "markdown",
   "metadata": {},
   "source": [
    "Let's create the polynomial degree"
   ]
  },
  {
   "cell_type": "code",
   "execution_count": 36,
   "metadata": {},
   "outputs": [],
   "source": [
    "# empty variable to stores the polynomial features\n",
    "poly_degree_list <- c()\n",
    "\n",
    "for(i in 2:10){\n",
    "    for(j in selected_features){\n",
    "        if(i < length(unique(final_data_tr[[j]]))){\n",
    "            poly_feat <- paste0(\"I(\", j, \"^\", i, \")\")\n",
    "            poly_degree_list <- c(poly_degree_list, poly_feat)\n",
    "        }\n",
    "    }\n",
    "}\n",
    "\n",
    "# create the variable that store the features\n",
    "features <- c(selected_features, poly_degree_list)"
   ]
  },
  {
   "cell_type": "markdown",
   "metadata": {},
   "source": [
    "Let's analyze the F1 score for every possible number of features"
   ]
  },
  {
   "cell_type": "code",
   "execution_count": 37,
   "metadata": {},
   "outputs": [],
   "source": [
    "# store variables to store the F1 score\n",
    "macro_f1_tr <- c()\n",
    "macro_f1_vl <- c()\n",
    "\n",
    "# for looping the number of features\n",
    "for(i in 1:length(features)){\n",
    "    # create the formula\n",
    "    formula <- as.formula(paste(\"perfectMentalHealth ~\", paste(features[1:i], collapse = \" + \")))\n",
    "    # create the model\n",
    "    model <- multinom(formula, data = trainData, trace = FALSE)\n",
    "    # store the F1 score\n",
    "    macro_f1_tr[i] <- macro_f1_score(model, trainData)\n",
    "    macro_f1_vl[i] <- macro_f1_score(model, validationData)\n",
    "}"
   ]
  },
  {
   "cell_type": "markdown",
   "metadata": {},
   "source": [
    "Let's plot the F1 scores."
   ]
  },
  {
   "cell_type": "code",
   "execution_count": 39,
   "metadata": {},
   "outputs": [
    {
     "data": {
      "image/png": "[encoded data removed]",
      "text/plain": [
       "plot without title"
      ]
     },
     "metadata": {
      "image/png": {
       "height": 420,
       "width": 420
      }
     },
     "output_type": "display_data"
    }
   ],
   "source": [
    "# get the difference between the training and validation F1 scores\n",
    "macro_f1_diff <- macro_f1_tr - macro_f1_vl\n",
    "\n",
    "# Combine data into a data frame\n",
    "df <- data.frame(\n",
    "  Index = 1:length(macro_f1_tr),\n",
    "  Macro_F1_Train = macro_f1_tr,\n",
    "  Macro_F1_Val = macro_f1_vl,\n",
    "  Macro_F1_Diff = macro_f1_diff\n",
    ")\n",
    "\n",
    "# Reshape data into long format using pivot_longer\n",
    "df_long <- df %>%\n",
    "  pivot_longer(cols = -Index, names_to = \"Variable\", values_to = \"Value\")\n",
    "\n",
    "# Create the plot using ggplot2\n",
    "ggplot(data = df_long, aes(x = Index, y = Value, color = Variable, group = Variable)) +\n",
    "  geom_line() +\n",
    "  geom_point() +\n",
    "  labs(x = \"Features\", y = \"Macro F1 score\", title = \"Macro F1 score Training vs Validation vs Difference\") +\n",
    "  scale_color_manual(values = c(\"Macro_F1_Train\" = \"blue\", \"Macro_F1_Val\" = \"red\", \"Macro_F1_Diff\" = \"green\")) +\n",
    "  theme_minimal() +\n",
    "  theme(legend.title = element_blank())"
   ]
  },
  {
   "cell_type": "markdown",
   "metadata": {},
   "source": [
    "After trying so many values for the number of features, 55 features work the best for the model.\n",
    "\n",
    "Let's assess it on the trainData"
   ]
  },
  {
   "cell_type": "code",
   "execution_count": 40,
   "metadata": {},
   "outputs": [
    {
     "name": "stdout",
     "output_type": "stream",
     "text": [
      "# weights:  285 (224 variable)\n",
      "initial  value 646.994041 \n",
      "iter  10 value 544.716847\n",
      "iter  20 value 523.368412\n",
      "iter  30 value 513.093137\n",
      "iter  40 value 506.630829\n",
      "iter  50 value 501.216539\n",
      "iter  60 value 497.575898\n",
      "iter  70 value 486.612942\n",
      "iter  80 value 475.514426\n",
      "iter  90 value 455.675880\n",
      "iter 100 value 417.081255\n",
      "final  value 417.081255 \n",
      "stopped after 100 iterations\n",
      "[1] \"The F1 score for the trainData is 0.575702488085092\"\n",
      "[1] \"The F1 score for the validationData is 0.370701722133259\"\n"
     ]
    }
   ],
   "source": [
    "# create the final formula\n",
    "fin_formula <- as.formula(\n",
    "    paste(\n",
    "        \"perfectMentalHealth ~\", \n",
    "        paste(features[1:55], collapse = \" + \")\n",
    "    )\n",
    ")\n",
    "\n",
    "# create the model\n",
    "model <- multinom(fin_formula, data = trainData)\n",
    "\n",
    "# calculate the F1 score\n",
    "print(\n",
    "    paste(\"The F1 score for the trainData is\", macro_f1_score(model, trainData))\n",
    ")\n",
    "print(\n",
    "    paste(\"The F1 score for the validationData is\", macro_f1_score(model, validationData))\n",
    ")"
   ]
  },
  {
   "cell_type": "markdown",
   "metadata": {},
   "source": [
    "The F1 scores suggest that the model is good but a bit overfit. \n",
    "\n",
    "Now let's create the final model using the cross validation and also the decay value to make the model not overfitting."
   ]
  },
  {
   "cell_type": "code",
   "execution_count": 41,
   "metadata": {},
   "outputs": [
    {
     "name": "stdout",
     "output_type": "stream",
     "text": [
      "[1] \"-2\" \"-1\" \"0\"  \"1\"  \"2\" \n",
      "[1] \"X.2\" \"X.1\" \"X0\"  \"X1\"  \"X2\" \n"
     ]
    }
   ],
   "source": [
    "# create new vairable to be transformed and put into the final model\n",
    "cv_final_data_tr <- final_data_tr\n",
    "\n",
    "# Print the modified levels to verify\n",
    "print(levels(cv_final_data_tr$perfectMentalHealth))\n",
    "\n",
    "# Convert levels to valid R variable names\n",
    "levels(cv_final_data_tr$perfectMentalHealth) <- make.names(levels(cv_final_data_tr$perfectMentalHealth))\n",
    "\n",
    "# Print the modified levels to verify\n",
    "print(levels(cv_final_data_tr$perfectMentalHealth))"
   ]
  },
  {
   "cell_type": "code",
   "execution_count": 42,
   "metadata": {},
   "outputs": [
    {
     "name": "stdout",
     "output_type": "stream",
     "text": [
      "  decay\n",
      "4  0.05\n",
      "Penalized Multinomial Regression \n",
      "\n",
      "500 samples\n",
      " 21 predictor\n",
      "  5 classes: 'X.2', 'X.1', 'X0', 'X1', 'X2' \n",
      "\n",
      "No pre-processing\n",
      "Resampling: Cross-Validated (5 fold) \n",
      "Summary of sample sizes: 400, 400, 399, 399, 402 \n",
      "Resampling results across tuning parameters:\n",
      "\n",
      "  decay  logLoss   AUC        prAUC      Accuracy   Kappa      Mean_F1  \n",
      "  0.02   1.614543  0.6910394  0.3221214  0.3378185  0.1497652  0.3326685\n",
      "  0.03   1.610869  0.6912849  0.3214725  0.3378185  0.1497652  0.3326685\n",
      "  0.04   1.607581  0.6916060  0.3213252  0.3378185  0.1494146  0.3326984\n",
      "  0.05   1.607151  0.6921548  0.3217376  0.3458185  0.1602466  0.3400810\n",
      "  Mean_Sensitivity  Mean_Specificity  Mean_Pos_Pred_Value  Mean_Neg_Pred_Value\n",
      "  0.3439135         0.8287998         0.3290762            0.8295531          \n",
      "  0.3439135         0.8287998         0.3290762            0.8295531          \n",
      "  0.3439135         0.8286798         0.3294045            0.8294216          \n",
      "  0.3515392         0.8308788         0.3372865            0.8316471          \n",
      "  Mean_Precision  Mean_Recall  Mean_Detection_Rate  Mean_Balanced_Accuracy\n",
      "  0.3290762       0.3439135    0.06756371           0.5863567             \n",
      "  0.3290762       0.3439135    0.06756371           0.5863567             \n",
      "  0.3294045       0.3439135    0.06756371           0.5862967             \n",
      "  0.3372865       0.3515392    0.06916371           0.5912090             \n",
      "\n",
      "Accuracy was used to select the optimal model using the largest value.\n",
      "The final value used for the model was decay = 0.05.\n",
      "[1] \"The F1 Score is 0.565591326216504\"\n"
     ]
    }
   ],
   "source": [
    "# Define the parameter grid for cross-validation\n",
    "tune_grid <- expand.grid(\n",
    "  decay = c(0.02, 0.03, 0.04, 0.05)\n",
    ")\n",
    "\n",
    "# Define the control function for train with cross-validation\n",
    "train_control <- trainControl(\n",
    "  method = \"cv\",    # Cross-validation\n",
    "  number = 5,       # Number of folds\n",
    "  summaryFunction = multiClassSummary,\n",
    "  classProbs = TRUE\n",
    ")\n",
    "\n",
    "set.seed(150)\n",
    "# Train the model with cross-validation\n",
    "cv_model <- train(\n",
    "  fin_formula,\n",
    "  data = cv_final_data_tr,\n",
    "  method = \"multinom\",\n",
    "  trControl = train_control,\n",
    "  tuneGrid = tune_grid,\n",
    "    trace = FALSE\n",
    ")\n",
    "\n",
    "# Print the best hyperparameters and results\n",
    "print(cv_model$bestTune)\n",
    "print(cv_model)\n",
    "\n",
    "\n",
    "# Define the reference mapping\n",
    "reference_levels <- c(\"X.2\", \"X.1\", \"X0\", \"X1\", \"X2\")\n",
    "numeric_values <- c(-2, -1, 0, 1, 2)\n",
    "# Create a named vector for mapping\n",
    "mapping <- setNames(numeric_values, reference_levels)\n",
    "\n",
    "# Generate predictions\n",
    "predictions <- predict(cv_model, cv_final_data_tr)\n",
    "\n",
    "# Calculate confusion matrix\n",
    "confusion_matrix <- confusionMatrix(predictions, cv_final_data_tr$perfectMentalHealth)\n",
    "\n",
    "# Extract F1 scores by class\n",
    "f1_scores <- confusion_matrix$byClass[, \"F1\"]\n",
    "\n",
    "# Calculate the macro F1 score\n",
    "macro_f1score <- mean(f1_scores, na.rm = TRUE)\n",
    "\n",
    "# Print the macro F1 score\n",
    "print(\n",
    "    paste(\"The F1 Score is\", macro_f1score)\n",
    ")"
   ]
  },
  {
   "cell_type": "markdown",
   "metadata": {},
   "source": [
    "Let's save the final model."
   ]
  },
  {
   "cell_type": "code",
   "execution_count": 43,
   "metadata": {},
   "outputs": [],
   "source": [
    "# Save the model to a file\n",
    "save(cv_model, file = \"cv_multinom_model.RData\")"
   ]
  },
  {
   "cell_type": "code",
   "execution_count": 44,
   "metadata": {
    "id": "8x-H3d66g7ix",
    "vscode": {
     "languageId": "r"
    }
   },
   "outputs": [],
   "source": [
    "# load the model\n",
    "load(\"cv_multinom_model.RData\")\n",
    "\n",
    "# Build your final model here, use additional coding blocks if you need to\n",
    "fin.mod <- cv_model\n",
    "\n",
    "# If you are using any packages that perform the prediction differently, please change this line of code accordingly.\n",
    "pred.label <- predict(fin.mod, final_data_ts)\n",
    "pred.label <- as.numeric(as.character(mapping[as.character(pred.label)]))\n",
    "# put these predicted labels in a csv file that you can use to commit to the Kaggle Leaderboard\n",
    "write.csv(\n",
    "    data.frame(\"RowIndex\" = seq(1, length(pred.label)), \"Prediction\" = pred.label),  \n",
    "    \"ClassificationPredictLabel.csv\", \n",
    "    row.names = F\n",
    ")"
   ]
  },
  {
   "cell_type": "code",
   "execution_count": null,
   "metadata": {
    "vscode": {
     "languageId": "r"
    }
   },
   "outputs": [],
   "source": [
    "## PLEASE DO NOT ALTER THIS CODE BLOCK, YOU ARE REQUIRED TO HAVE THIS CODE BLOCK IN YOUR JUPYTER NOTEBOOK SUBMISSION\n",
    "## Please skip (don't run) this if you are a student\n",
    "## For teaching team use only\n",
    "\n",
    "truths <- tryCatch(\n",
    "    {\n",
    "        read.csv(\"../classification_test_label.csv\")\n",
    "    },\n",
    "    error = function(e){\n",
    "        read.csv(\"classification_test_label.csv\")\n",
    "    }\n",
    ")\n",
    "\n",
    "f1_score <- F1_Score(truths$x, pred.label)\n",
    "cat(paste(\"f1_score is\", f1_score))"
   ]
  }
 ],
 "metadata": {
  "colab": {
   "collapsed_sections": [],
   "name": "FIT5197_Assignment_Marking_Guidelines.ipynb",
   "provenance": []
  },
  "kernelspec": {
   "display_name": "R",
   "language": "R",
   "name": "ir"
  },
  "language_info": {
   "codemirror_mode": "r",
   "file_extension": ".r",
   "mimetype": "text/x-r-source",
   "name": "R",
   "pygments_lexer": "r",
   "version": "4.0.5"
  }
 },
 "nbformat": 4,
 "nbformat_minor": 4
}
